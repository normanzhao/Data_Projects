{
 "cells": [
  {
   "cell_type": "code",
   "execution_count": null,
   "metadata": {
    "collapsed": false
   },
   "outputs": [],
   "source": [
    "import pandas as pd\n",
    "import numpy as np\n",
    "from bs4 import BeautifulSoup\n",
    "import urllib2\n",
    "import sys\n",
    "import datetime as dt\n",
    "now=dt.datetime.now()\n",
    "print now"
   ]
  },
  {
   "cell_type": "markdown",
   "metadata": {},
   "source": [
    "Get name, position, height, weight, college, and years of service of every player and link to their player page. HOF players are seperated from regular players by the * denotation used by BasketballReference"
   ]
  },
  {
   "cell_type": "code",
   "execution_count": null,
   "metadata": {
    "collapsed": false
   },
   "outputs": [],
   "source": [
    "all_players = []\n",
    "for letter in range(97,123):\n",
    "    url = \"https://www.basketball-reference.com/players/\"+chr(letter)\n",
    "    try:\n",
    "        players = pd.read_html(url)[0]\n",
    "    except:\n",
    "        continue\n",
    "        \n",
    "    player_links = BeautifulSoup(urllib2.urlopen(url),'html.parser')\n",
    "    links = []\n",
    "    for link in player_links.find_all(attrs={\"data-stat\":'player'}):\n",
    "        try:\n",
    "            links.append([link.text, link.a['href']])\n",
    "        except:\n",
    "            pass\n",
    "    player_links = pd.DataFrame(links, columns=['Player','URL'])    \n",
    "    players = players.merge(player_links,how='left',on=\"Player\")\n",
    "        \n",
    "    players[\"Years of Service\"] = players[\"To\"] - players[\"From\"]\n",
    "    all_players.append(players)\n",
    "    sys.stdout.write(\"\\r\" + chr(letter))\n",
    "    sys.stdout.flush()"
   ]
  },
  {
   "cell_type": "markdown",
   "metadata": {},
   "source": [
    "Append the lists of players into a dataframe"
   ]
  },
  {
   "cell_type": "code",
   "execution_count": null,
   "metadata": {
    "collapsed": false,
    "scrolled": true
   },
   "outputs": [],
   "source": [
    "all_players = pd.concat(all_players)"
   ]
  },
  {
   "cell_type": "markdown",
   "metadata": {},
   "source": [
    "Using each individual player's player page, load up a dataframe containing their career stats"
   ]
  },
  {
   "cell_type": "code",
   "execution_count": null,
   "metadata": {
    "collapsed": false
   },
   "outputs": [],
   "source": [
    "player_stats = pd.DataFrame()\n",
    "for _,player in all_players.iterrows():\n",
    "    sys.stdout.write(\"\\r\" + player['Player'])\n",
    "    sys.stdout.flush()\n",
    "    url = \"https://www.basketball-reference.com/\" + player['URL']\n",
    "    single_stats = {}\n",
    "    #get stats\n",
    "    for retries in range(0,3):\n",
    "        try:\n",
    "            stats = pd.read_html(url)[0]\n",
    "            other_stats = BeautifulSoup(urllib2.urlopen(url),'html.parser')\n",
    "            break\n",
    "        except:\n",
    "            pass\n",
    "    stats = stats[stats['Season'] == 'Career']\n",
    "    single_stats['Player'] = player['Player']\n",
    "    for stat in ['G', 'GS', 'MP', 'FG', 'FGA', 'FG%', '3P', '3PA', '3P%', '2P','2PA', '2P%', 'eFG%','FT', 'FTA', 'FT%',\\\n",
    "                                               'ORB', 'DRB', 'TRB', 'AST', 'STL', 'BLK', 'TOV', 'PF', 'PTS']:\n",
    "        try:\n",
    "            single_stats[stat] = stats[stat]\n",
    "        except:\n",
    "            pass\n",
    "    \n",
    "    #Distinct amount of teams \n",
    "    teams = set()\n",
    "    for team in other_stats.find(\"div\", {\"class\": \"uni_holder\"}).find_all('a'):\n",
    "        teams.add(team['data-tip'].split(',')[0])\n",
    "    single_stats['Teams'] = len(teams)\n",
    "    \n",
    "    player_stats = pd.concat([player_stats,pd.DataFrame(single_stats)])"
   ]
  },
  {
   "cell_type": "markdown",
   "metadata": {},
   "source": [
    "Reorder the columns since converting a dictionary to a dataframe leads to randomized column orders(dictionaries are not ordered)"
   ]
  },
  {
   "cell_type": "code",
   "execution_count": null,
   "metadata": {
    "collapsed": true
   },
   "outputs": [],
   "source": [
    "player_stats = player_stats[['Player', 'G', 'GS', 'MP', 'FG', 'FGA', 'FG%', '3P', '3PA', '3P%', '2P', '2PA', '2P%', 'eFG%','FT', 'FTA', 'FT%',\\\n",
    "                                              'ORB', 'DRB', 'TRB', 'AST', 'STL', 'BLK', 'TOV', 'PF', 'PTS', 'Teams']]"
   ]
  },
  {
   "cell_type": "markdown",
   "metadata": {},
   "source": [
    "Merge the dataframe containing a player's vitals to their career stats with a left join on their vitals"
   ]
  },
  {
   "cell_type": "code",
   "execution_count": null,
   "metadata": {
    "collapsed": true
   },
   "outputs": [],
   "source": [
    "all_players = all_players.merge(player_stats,how='left',on=\"Player\")\n",
    "all_players.fillna(0,inplace=True)"
   ]
  },
  {
   "cell_type": "markdown",
   "metadata": {},
   "source": [
    "Separate the dataframe into regular players and a HOF players. This makes it easier later on as the MVP and AllStar dataframes doesn't make this distinction"
   ]
  },
  {
   "cell_type": "code",
   "execution_count": null,
   "metadata": {
    "collapsed": true
   },
   "outputs": [],
   "source": [
    "reg_players = all_players[~all_players['Player'].str.contains('\\*')]\n",
    "hof_players = all_players[all_players['Player'].str.contains('\\*')]"
   ]
  },
  {
   "cell_type": "markdown",
   "metadata": {},
   "source": [
    "Delete * from HOF playerss names"
   ]
  },
  {
   "cell_type": "code",
   "execution_count": null,
   "metadata": {
    "collapsed": false,
    "scrolled": true
   },
   "outputs": [],
   "source": [
    "hof_players['Player'] = hof_players['Player'].str.replace(\"*\",\"\")"
   ]
  },
  {
   "cell_type": "markdown",
   "metadata": {},
   "source": [
    "Get list of players and the amounts of AllStar and MVP selections they've acheived and merge it with the existing dataframes"
   ]
  },
  {
   "cell_type": "code",
   "execution_count": null,
   "metadata": {
    "collapsed": false
   },
   "outputs": [],
   "source": [
    "allstars = pd.read_html('https://www.basketball-reference.com/awards/all_star_by_player.html')[0][['Player','Tot']]\n",
    "allstars.columns = ['Player','AllStars']\n",
    "\n",
    "mvps = pd.read_html('https://www.basketball-reference.com/awards/mvp.html')[2][['Player','Count']]\n",
    "mvps.columns = ['Player','MVPs']\n",
    "\n",
    "reg_players = reg_players.merge(allstars,how='left',on=\"Player\")\n",
    "reg_players = reg_players.merge(mvps,how='left',on=\"Player\")\n",
    "reg_players.fillna(0,inplace=True)\n",
    "\n",
    "hof_players = hof_players.merge(allstars,how='left',on=\"Player\")\n",
    "hof_players = hof_players.merge(mvps,how='left',on=\"Player\")\n",
    "hof_players.fillna(0,inplace=True)"
   ]
  },
  {
   "cell_type": "markdown",
   "metadata": {},
   "source": [
    "Drop all duplicates"
   ]
  },
  {
   "cell_type": "code",
   "execution_count": null,
   "metadata": {
    "collapsed": false
   },
   "outputs": [],
   "source": [
    "all_players.drop_duplicates(subset=[\"Player\",\"Birth Date\"],inplace=True)\n",
    "reg_players.drop_duplicates(subset=[\"Player\",\"Birth Date\"],inplace=True)\n",
    "hof_players.drop_duplicates(subset=[\"Player\",\"Birth Date\"],inplace=True)"
   ]
  },
  {
   "cell_type": "markdown",
   "metadata": {
    "collapsed": false
   },
   "source": [
    "Save all current data since a single run takes about 2.5 hours"
   ]
  },
  {
   "cell_type": "code",
   "execution_count": null,
   "metadata": {
    "collapsed": false
   },
   "outputs": [],
   "source": [
    "all_players.to_pickle(\"all_players.pkl\")\n",
    "reg_players.to_pickle(\"reg_players.pkl\")\n",
    "hof_players.to_pickle(\"hof_players.pkl\")\n",
    "\n",
    "all_players.to_csv(\"all_players.csv\")\n",
    "reg_players.to_csv(\"reg_players.csv\")\n",
    "hof_players.to_csv(\"hof_players.csv\")"
   ]
  },
  {
   "cell_type": "code",
   "execution_count": null,
   "metadata": {
    "collapsed": false
   },
   "outputs": [],
   "source": [
    "print dt.datetime.now()-now"
   ]
  }
 ],
 "metadata": {
  "kernelspec": {
   "display_name": "Python 2",
   "language": "python",
   "name": "python2"
  },
  "language_info": {
   "codemirror_mode": {
    "name": "ipython",
    "version": 2
   },
   "file_extension": ".py",
   "mimetype": "text/x-python",
   "name": "python",
   "nbconvert_exporter": "python",
   "pygments_lexer": "ipython2",
   "version": "2.7.12"
  }
 },
 "nbformat": 4,
 "nbformat_minor": 0
}
